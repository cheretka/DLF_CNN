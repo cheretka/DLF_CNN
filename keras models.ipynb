{
 "cells": [
  {
   "cell_type": "markdown",
   "metadata": {
    "collapsed": true,
    "pycharm": {
     "name": "#%% md\n"
    }
   },
   "source": [
    "# Keras CNN"
   ]
  },
  {
   "cell_type": "code",
   "execution_count": 56,
   "outputs": [],
   "source": [
    "import numpy as np\n",
    "from keras.datasets import mnist, fashion_mnist, cifar10, cifar100\n",
    "\n",
    "from keras.models import Sequential\n",
    "from keras.layers import Conv2D, MaxPooling2D, Flatten, Dense, Dropout\n",
    "from keras.utils import to_categorical, plot_model\n",
    "from base import *\n",
    "import time"
   ],
   "metadata": {
    "collapsed": false,
    "pycharm": {
     "name": "#%%\n"
    }
   }
  },
  {
   "cell_type": "markdown",
   "source": [
    "## mnist"
   ],
   "metadata": {
    "collapsed": false,
    "pycharm": {
     "name": "#%% md\n"
    }
   }
  },
  {
   "cell_type": "code",
   "execution_count": 69,
   "outputs": [
    {
     "name": "stdout",
     "output_type": "stream",
     "text": [
      "Model: \"sequential_31\"\n",
      "_________________________________________________________________\n",
      " Layer (type)                Output Shape              Param #   \n",
      "=================================================================\n",
      " conv2d_62 (Conv2D)          (None, 12, 12, 32)        832       \n",
      "                                                                 \n",
      " max_pooling2d_62 (MaxPoolin  (None, 6, 6, 32)         0         \n",
      " g2D)                                                            \n",
      "                                                                 \n",
      " conv2d_63 (Conv2D)          (None, 4, 4, 64)          18496     \n",
      "                                                                 \n",
      " max_pooling2d_63 (MaxPoolin  (None, 2, 2, 64)         0         \n",
      " g2D)                                                            \n",
      "                                                                 \n",
      " flatten_31 (Flatten)        (None, 256)               0         \n",
      "                                                                 \n",
      " dense_31 (Dense)            (None, 10)                2570      \n",
      "                                                                 \n",
      "=================================================================\n",
      "Total params: 21,898\n",
      "Trainable params: 21,898\n",
      "Non-trainable params: 0\n",
      "_________________________________________________________________\n"
     ]
    },
    {
     "data": {
      "image/png": "[encoded data removed]",
      "text/plain": "<IPython.core.display.Image object>"
     },
     "execution_count": 69,
     "metadata": {},
     "output_type": "execute_result"
    }
   ],
   "source": [
    "x_train, y_train, x_test, y_test = get_mnist()\n",
    "\n",
    "model = Sequential()\n",
    "model.add(Conv2D(32, kernel_size=(5, 5), strides = (2, 2), activation='relu', input_shape=(28, 28, 1))),\n",
    "model.add(MaxPooling2D(pool_size=(2, 2)))\n",
    "model.add(Conv2D(64, kernel_size=(3,3), activation='relu'))\n",
    "model.add(MaxPooling2D(pool_size=(2, 2)))\n",
    "model.add(Flatten())\n",
    "model.add(Dense(10, activation='softmax'))\n",
    "\n",
    "model.summary()\n",
    "plot_model(model, show_shapes = True, dpi = 80)"
   ],
   "metadata": {
    "collapsed": false,
    "pycharm": {
     "name": "#%%\n"
    }
   }
  },
  {
   "cell_type": "code",
   "execution_count": 70,
   "outputs": [
    {
     "name": "stdout",
     "output_type": "stream",
     "text": [
      "Epoch 1/5\n",
      "625/625 [==============================] - 3s 3ms/step - loss: 0.0191 - accuracy: 0.8745\n",
      "Epoch 2/5\n",
      "625/625 [==============================] - 2s 3ms/step - loss: 0.0061 - accuracy: 0.9609\n",
      "Epoch 3/5\n",
      "625/625 [==============================] - 2s 3ms/step - loss: 0.0044 - accuracy: 0.9715\n",
      "Epoch 4/5\n",
      "625/625 [==============================] - 2s 3ms/step - loss: 0.0035 - accuracy: 0.9781\n",
      "Epoch 5/5\n",
      "625/625 [==============================] - 2s 3ms/step - loss: 0.0028 - accuracy: 0.9819\n",
      "Elapsed time: 10.99 seconds\n",
      "313/313 [==============================] - 1s 2ms/step - loss: 0.0033 - accuracy: 0.9783\n",
      "Test set\n",
      "Loss: 0.00327158, accuracy: 97.83%\n"
     ]
    }
   ],
   "source": [
    "model.compile(loss=\"mean_squared_error\", metrics=[\"accuracy\"])\n",
    "maxv = 20_000\n",
    "start_time = time.time()\n",
    "model.fit(x_train[:maxv], y_train[:maxv], batch_size = 32 , epochs=5)\n",
    "print(f\"Elapsed time: {(time.time() - start_time):.2f} seconds\")\n",
    "\n",
    "test_loss, test_acc = model.evaluate(x_test, y_test)\n",
    "print(f\"Test set\\nLoss: {(test_loss):.8f}, accuracy: {(test_acc*100):.2f}%\")"
   ],
   "metadata": {
    "collapsed": false,
    "pycharm": {
     "name": "#%%\n"
    }
   }
  },
  {
   "cell_type": "code",
   "execution_count": 51,
   "outputs": [],
   "source": [],
   "metadata": {
    "collapsed": false,
    "pycharm": {
     "name": "#%%\n"
    }
   }
  },
  {
   "cell_type": "markdown",
   "source": [
    "## fashion_mnist"
   ],
   "metadata": {
    "collapsed": false,
    "pycharm": {
     "name": "#%% md\n"
    }
   }
  },
  {
   "cell_type": "code",
   "execution_count": 59,
   "outputs": [
    {
     "name": "stdout",
     "output_type": "stream",
     "text": [
      "Model: \"sequential_26\"\n",
      "_________________________________________________________________\n",
      " Layer (type)                Output Shape              Param #   \n",
      "=================================================================\n",
      " conv2d_52 (Conv2D)          (None, 12, 12, 32)        832       \n",
      "                                                                 \n",
      " max_pooling2d_52 (MaxPoolin  (None, 6, 6, 32)         0         \n",
      " g2D)                                                            \n",
      "                                                                 \n",
      " conv2d_53 (Conv2D)          (None, 4, 4, 64)          18496     \n",
      "                                                                 \n",
      " max_pooling2d_53 (MaxPoolin  (None, 2, 2, 64)         0         \n",
      " g2D)                                                            \n",
      "                                                                 \n",
      " flatten_26 (Flatten)        (None, 256)               0         \n",
      "                                                                 \n",
      " dense_26 (Dense)            (None, 10)                2570      \n",
      "                                                                 \n",
      "=================================================================\n",
      "Total params: 21,898\n",
      "Trainable params: 21,898\n",
      "Non-trainable params: 0\n",
      "_________________________________________________________________\n"
     ]
    },
    {
     "data": {
      "image/png": "[encoded data removed]",
      "text/plain": "<IPython.core.display.Image object>"
     },
     "execution_count": 59,
     "metadata": {},
     "output_type": "execute_result"
    }
   ],
   "source": [
    "x_train, y_train, x_test, y_test = get_fashion_mnist()\n",
    "\n",
    "model = Sequential()\n",
    "model.add(Conv2D(32, kernel_size=(5, 5), strides = (2, 2), activation='relu', input_shape=(28, 28, 1))),\n",
    "model.add(MaxPooling2D(pool_size=(2, 2)))\n",
    "model.add(Conv2D(64, kernel_size=(3,3), activation='relu'))\n",
    "model.add(MaxPooling2D(pool_size=(2, 2)))\n",
    "model.add(Flatten())\n",
    "model.add(Dense(10, activation='softmax'))\n",
    "\n",
    "model.summary()\n",
    "plot_model(model, show_shapes = True, dpi = 80)"
   ],
   "metadata": {
    "collapsed": false,
    "pycharm": {
     "name": "#%%\n"
    }
   }
  },
  {
   "cell_type": "code",
   "execution_count": 60,
   "outputs": [
    {
     "name": "stdout",
     "output_type": "stream",
     "text": [
      "Epoch 1/8\n",
      "391/391 [==============================] - 2s 5ms/step - loss: 0.7881 - accuracy: 0.7225\n",
      "Epoch 2/8\n",
      "391/391 [==============================] - 2s 5ms/step - loss: 0.5013 - accuracy: 0.8195\n",
      "Epoch 3/8\n",
      "391/391 [==============================] - 2s 5ms/step - loss: 0.4344 - accuracy: 0.8479\n",
      "Epoch 4/8\n",
      "391/391 [==============================] - 2s 5ms/step - loss: 0.3963 - accuracy: 0.8576\n",
      "Epoch 5/8\n",
      "391/391 [==============================] - 2s 5ms/step - loss: 0.3673 - accuracy: 0.8680\n",
      "Epoch 6/8\n",
      "391/391 [==============================] - 2s 5ms/step - loss: 0.3454 - accuracy: 0.8761\n",
      "Epoch 7/8\n",
      "391/391 [==============================] - 2s 5ms/step - loss: 0.3291 - accuracy: 0.8805\n",
      "Epoch 8/8\n",
      "391/391 [==============================] - 2s 5ms/step - loss: 0.3132 - accuracy: 0.8872\n",
      "Elapsed time: 16.61 seconds\n",
      "313/313 [==============================] - 1s 1ms/step - loss: 0.3667 - accuracy: 0.8636\n",
      "Test set\n",
      "Loss: 0.36674488, accuracy: 86.4%\n"
     ]
    }
   ],
   "source": [
    "model.compile(loss=\"categorical_crossentropy\", metrics=[\"accuracy\"])\n",
    "maxv = 25_000\n",
    "start_time = time.time()\n",
    "model.fit(x_train[:maxv], y_train[:maxv], batch_size = 64 , epochs=8)\n",
    "print(f\"Elapsed time: {(time.time() - start_time):.2f} seconds\")\n",
    "\n",
    "test_loss, test_acc = model.evaluate(x_test, y_test)\n",
    "print(f\"Test set\\nLoss: {(test_loss):.8f}, accuracy: {(test_acc*100):.1f}%\")"
   ],
   "metadata": {
    "collapsed": false,
    "pycharm": {
     "name": "#%%\n"
    }
   }
  },
  {
   "cell_type": "code",
   "execution_count": 53,
   "outputs": [],
   "source": [],
   "metadata": {
    "collapsed": false,
    "pycharm": {
     "name": "#%%\n"
    }
   }
  },
  {
   "cell_type": "markdown",
   "source": [
    "## cifar10"
   ],
   "metadata": {
    "collapsed": false,
    "pycharm": {
     "name": "#%% md\n"
    }
   }
  },
  {
   "cell_type": "code",
   "execution_count": 61,
   "outputs": [
    {
     "name": "stdout",
     "output_type": "stream",
     "text": [
      "Model: \"sequential_27\"\n",
      "_________________________________________________________________\n",
      " Layer (type)                Output Shape              Param #   \n",
      "=================================================================\n",
      " conv2d_54 (Conv2D)          (None, 14, 14, 32)        2432      \n",
      "                                                                 \n",
      " max_pooling2d_54 (MaxPoolin  (None, 7, 7, 32)         0         \n",
      " g2D)                                                            \n",
      "                                                                 \n",
      " conv2d_55 (Conv2D)          (None, 5, 5, 64)          18496     \n",
      "                                                                 \n",
      " max_pooling2d_55 (MaxPoolin  (None, 2, 2, 64)         0         \n",
      " g2D)                                                            \n",
      "                                                                 \n",
      " flatten_27 (Flatten)        (None, 256)               0         \n",
      "                                                                 \n",
      " dense_27 (Dense)            (None, 10)                2570      \n",
      "                                                                 \n",
      "=================================================================\n",
      "Total params: 23,498\n",
      "Trainable params: 23,498\n",
      "Non-trainable params: 0\n",
      "_________________________________________________________________\n"
     ]
    },
    {
     "data": {
      "image/png": "[encoded data removed]",
      "text/plain": "<IPython.core.display.Image object>"
     },
     "execution_count": 61,
     "metadata": {},
     "output_type": "execute_result"
    }
   ],
   "source": [
    "x_train, y_train, x_test, y_test = get_cifar10()\n",
    "\n",
    "model = Sequential()\n",
    "model.add(Conv2D(32, kernel_size=(5, 5), strides = (2, 2), activation='relu', input_shape=(32, 32, 3))),\n",
    "model.add(MaxPooling2D(pool_size=(2, 2)))\n",
    "model.add(Conv2D(64, kernel_size=(3,3), activation='relu'))\n",
    "model.add(MaxPooling2D(pool_size=(2, 2)))\n",
    "model.add(Flatten())\n",
    "model.add(Dense(10, activation = 'softmax'))\n",
    "\n",
    "model.summary()\n",
    "plot_model(model, show_shapes = True, dpi = 80)"
   ],
   "metadata": {
    "collapsed": false,
    "pycharm": {
     "name": "#%%\n"
    }
   }
  },
  {
   "cell_type": "code",
   "execution_count": 62,
   "outputs": [
    {
     "name": "stdout",
     "output_type": "stream",
     "text": [
      "Epoch 1/15\n",
      "1094/1094 [==============================] - 6s 5ms/step - loss: 1.7921 - accuracy: 0.3492\n",
      "Epoch 2/15\n",
      "1094/1094 [==============================] - 6s 5ms/step - loss: 1.5009 - accuracy: 0.4666\n",
      "Epoch 3/15\n",
      "1094/1094 [==============================] - 6s 5ms/step - loss: 1.3779 - accuracy: 0.5130\n",
      "Epoch 4/15\n",
      "1094/1094 [==============================] - 6s 5ms/step - loss: 1.2905 - accuracy: 0.5448\n",
      "Epoch 5/15\n",
      "1094/1094 [==============================] - 6s 5ms/step - loss: 1.2276 - accuracy: 0.5719\n",
      "Epoch 6/15\n",
      "1094/1094 [==============================] - 6s 5ms/step - loss: 1.1781 - accuracy: 0.5902\n",
      "Epoch 7/15\n",
      "1094/1094 [==============================] - 6s 5ms/step - loss: 1.1358 - accuracy: 0.6032\n",
      "Epoch 8/15\n",
      "1094/1094 [==============================] - 6s 5ms/step - loss: 1.0990 - accuracy: 0.6191\n",
      "Epoch 9/15\n",
      "1094/1094 [==============================] - 6s 5ms/step - loss: 1.0685 - accuracy: 0.6299\n",
      "Epoch 10/15\n",
      "1094/1094 [==============================] - 6s 5ms/step - loss: 1.0418 - accuracy: 0.6422\n",
      "Epoch 11/15\n",
      "1094/1094 [==============================] - 6s 5ms/step - loss: 1.0169 - accuracy: 0.6497\n",
      "Epoch 12/15\n",
      "1094/1094 [==============================] - 6s 5ms/step - loss: 0.9901 - accuracy: 0.6592\n",
      "Epoch 13/15\n",
      "1094/1094 [==============================] - 6s 5ms/step - loss: 0.9719 - accuracy: 0.6655\n",
      "Epoch 14/15\n",
      "1094/1094 [==============================] - 6s 5ms/step - loss: 0.9519 - accuracy: 0.6715\n",
      "Epoch 15/15\n",
      "1094/1094 [==============================] - 6s 5ms/step - loss: 0.9347 - accuracy: 0.6790\n",
      "Elapsed time: 84.51 seconds\n",
      "313/313 [==============================] - 1s 3ms/step - loss: 1.1666 - accuracy: 0.6050\n",
      "Test set\n",
      "Loss: 1.16663373, accuracy: 60.5%\n"
     ]
    }
   ],
   "source": [
    "model.compile(loss=\"categorical_crossentropy\", metrics=[\"accuracy\"])\n",
    "maxv = 35_000\n",
    "start_time = time.time()\n",
    "model.fit(x_train[:maxv], y_train[:maxv], batch_size = 32 , epochs=15)\n",
    "print(f\"Elapsed time: {(time.time() - start_time):.2f} seconds\")\n",
    "\n",
    "test_loss, test_acc = model.evaluate(x_test, y_test)\n",
    "print(f\"Test set\\nLoss: {(test_loss):.8f}, accuracy: {(test_acc*100):.1f}%\")"
   ],
   "metadata": {
    "collapsed": false,
    "pycharm": {
     "name": "#%%\n"
    }
   }
  },
  {
   "cell_type": "code",
   "execution_count": null,
   "outputs": [],
   "source": [],
   "metadata": {
    "collapsed": false,
    "pycharm": {
     "name": "#%%\n"
    }
   }
  },
  {
   "cell_type": "markdown",
   "source": [
    "## cifar100"
   ],
   "metadata": {
    "collapsed": false,
    "pycharm": {
     "name": "#%% md\n"
    }
   }
  },
  {
   "cell_type": "code",
   "execution_count": 65,
   "outputs": [
    {
     "name": "stdout",
     "output_type": "stream",
     "text": [
      "Model: \"sequential_29\"\n",
      "_________________________________________________________________\n",
      " Layer (type)                Output Shape              Param #   \n",
      "=================================================================\n",
      " conv2d_58 (Conv2D)          (None, 14, 14, 32)        2432      \n",
      "                                                                 \n",
      " max_pooling2d_58 (MaxPoolin  (None, 7, 7, 32)         0         \n",
      " g2D)                                                            \n",
      "                                                                 \n",
      " conv2d_59 (Conv2D)          (None, 5, 5, 64)          18496     \n",
      "                                                                 \n",
      " max_pooling2d_59 (MaxPoolin  (None, 2, 2, 64)         0         \n",
      " g2D)                                                            \n",
      "                                                                 \n",
      " flatten_29 (Flatten)        (None, 256)               0         \n",
      "                                                                 \n",
      " dense_29 (Dense)            (None, 20)                5140      \n",
      "                                                                 \n",
      "=================================================================\n",
      "Total params: 26,068\n",
      "Trainable params: 26,068\n",
      "Non-trainable params: 0\n",
      "_________________________________________________________________\n"
     ]
    },
    {
     "data": {
      "image/png": "[encoded data removed]",
      "text/plain": "<IPython.core.display.Image object>"
     },
     "execution_count": 65,
     "metadata": {},
     "output_type": "execute_result"
    }
   ],
   "source": [
    "x_train, y_train, x_test, y_test = get_cifar100()\n",
    "\n",
    "model = Sequential()\n",
    "model.add(Conv2D(32, kernel_size=(5, 5), strides = (2, 2), activation='relu', input_shape=(32, 32, 3))),\n",
    "model.add(MaxPooling2D(pool_size=(2, 2)))\n",
    "model.add(Conv2D(64, kernel_size=(3,3), activation='relu'))\n",
    "model.add(MaxPooling2D(pool_size=(2, 2)))\n",
    "model.add(Flatten())\n",
    "model.add(Dense(20, activation = 'softmax'))\n",
    "\n",
    "model.summary()\n",
    "plot_model(model, show_shapes = True, dpi = 80)"
   ],
   "metadata": {
    "collapsed": false,
    "pycharm": {
     "name": "#%%\n"
    }
   }
  },
  {
   "cell_type": "code",
   "execution_count": 66,
   "outputs": [
    {
     "name": "stdout",
     "output_type": "stream",
     "text": [
      "Epoch 1/20\n",
      "313/313 [==============================] - 2s 5ms/step - loss: 2.7722 - accuracy: 0.1535\n",
      "Epoch 2/20\n",
      "313/313 [==============================] - 2s 5ms/step - loss: 2.4424 - accuracy: 0.2581\n",
      "Epoch 3/20\n",
      "313/313 [==============================] - 2s 5ms/step - loss: 2.2467 - accuracy: 0.3186\n",
      "Epoch 4/20\n",
      "313/313 [==============================] - 2s 5ms/step - loss: 2.1056 - accuracy: 0.3612\n",
      "Epoch 5/20\n",
      "313/313 [==============================] - 2s 5ms/step - loss: 1.9876 - accuracy: 0.3994\n",
      "Epoch 6/20\n",
      "313/313 [==============================] - 2s 5ms/step - loss: 1.9067 - accuracy: 0.4242\n",
      "Epoch 7/20\n",
      "313/313 [==============================] - 2s 5ms/step - loss: 1.8420 - accuracy: 0.4405\n",
      "Epoch 8/20\n",
      "313/313 [==============================] - 2s 5ms/step - loss: 1.7870 - accuracy: 0.4574\n",
      "Epoch 9/20\n",
      "313/313 [==============================] - 2s 5ms/step - loss: 1.7259 - accuracy: 0.4782\n",
      "Epoch 10/20\n",
      "313/313 [==============================] - 2s 5ms/step - loss: 1.6790 - accuracy: 0.4885\n",
      "Epoch 11/20\n",
      "313/313 [==============================] - 2s 5ms/step - loss: 1.6342 - accuracy: 0.5031\n",
      "Epoch 12/20\n",
      "313/313 [==============================] - 2s 5ms/step - loss: 1.5968 - accuracy: 0.5132\n",
      "Epoch 13/20\n",
      "313/313 [==============================] - 2s 5ms/step - loss: 1.5584 - accuracy: 0.5217\n",
      "Epoch 14/20\n",
      "313/313 [==============================] - 2s 5ms/step - loss: 1.5193 - accuracy: 0.5368\n",
      "Epoch 15/20\n",
      "313/313 [==============================] - 2s 5ms/step - loss: 1.4866 - accuracy: 0.5505\n",
      "Epoch 16/20\n",
      "313/313 [==============================] - 2s 5ms/step - loss: 1.4517 - accuracy: 0.5556\n",
      "Epoch 17/20\n",
      "313/313 [==============================] - 2s 5ms/step - loss: 1.4207 - accuracy: 0.5662\n",
      "Epoch 18/20\n",
      "313/313 [==============================] - 2s 5ms/step - loss: 1.3851 - accuracy: 0.5763\n",
      "Epoch 19/20\n",
      "313/313 [==============================] - 2s 5ms/step - loss: 1.3638 - accuracy: 0.5826\n",
      "Epoch 20/20\n",
      "313/313 [==============================] - 2s 5ms/step - loss: 1.3342 - accuracy: 0.5913\n",
      "Elapsed time: 31.67 seconds\n",
      "63/63 [==============================] - 0s 2ms/step - loss: 1.7423 - accuracy: 0.4885\n",
      "Test set\n",
      "Loss: 1.74229932, accuracy: 48.8%\n"
     ]
    }
   ],
   "source": [
    "model.compile(loss=\"categorical_crossentropy\", metrics=[\"accuracy\"])\n",
    "start_time = time.time()\n",
    "model.fit(x_train, y_train, batch_size = 32 , epochs=20)\n",
    "print(f\"Elapsed time: {(time.time() - start_time):.2f} seconds\")\n",
    "\n",
    "test_loss, test_acc = model.evaluate(x_test, y_test)\n",
    "print(f\"Test set\\nLoss: {(test_loss):.8f}, accuracy: {(test_acc*100):.1f}%\")"
   ],
   "metadata": {
    "collapsed": false,
    "pycharm": {
     "name": "#%%\n"
    }
   }
  },
  {
   "cell_type": "code",
   "execution_count": null,
   "outputs": [],
   "source": [],
   "metadata": {
    "collapsed": false,
    "pycharm": {
     "name": "#%%\n"
    }
   }
  }
 ],
 "metadata": {
  "kernelspec": {
   "display_name": "Python 3",
   "language": "python",
   "name": "python3"
  },
  "language_info": {
   "codemirror_mode": {
    "name": "ipython",
    "version": 2
   },
   "file_extension": ".py",
   "mimetype": "text/x-python",
   "name": "python",
   "nbconvert_exporter": "python",
   "pygments_lexer": "ipython2",
   "version": "2.7.6"
  }
 },
 "nbformat": 4,
 "nbformat_minor": 0
}