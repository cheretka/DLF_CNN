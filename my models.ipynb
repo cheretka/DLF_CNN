{
 "cells": [
  {
   "cell_type": "markdown",
   "metadata": {
    "collapsed": true,
    "pycharm": {
     "name": "#%% md\n"
    }
   },
   "source": [
    "# My implementation of CNN"
   ]
  },
  {
   "cell_type": "code",
   "execution_count": 4,
   "outputs": [],
   "source": [
    "from keras.datasets import mnist, fashion_mnist, cifar10, cifar100\n",
    "from keras.utils import to_categorical\n",
    "import time\n",
    "\n",
    "from ANN.convolutional import Conv2D\n",
    "from ANN.dense import Dense\n",
    "from ANN.dropout import Dropout\n",
    "from ANN.flatten import Flatten\n",
    "from ANN.losses import MSELoss, CrossEntropyLoss\n",
    "from ANN.model import Sequential\n",
    "from ANN.pooling import MaxPooling2D\n",
    "from base import *"
   ],
   "metadata": {
    "collapsed": false,
    "pycharm": {
     "name": "#%%\n"
    }
   }
  },
  {
   "cell_type": "markdown",
   "source": [
    "## mnist"
   ],
   "metadata": {
    "collapsed": false,
    "pycharm": {
     "name": "#%% md\n"
    }
   }
  },
  {
   "cell_type": "code",
   "execution_count": 7,
   "outputs": [],
   "source": [
    "x_train, y_train, x_test, y_test = get_mnist()\n",
    "\n",
    "model = Sequential()\n",
    "model.add(Conv2D(32, kernel_size=(5, 5), strides = (2, 2), activation='relu', input_shape=(28, 28, 1))),\n",
    "model.add(MaxPooling2D(pool_size=(2, 2)))\n",
    "model.add(Conv2D(64, kernel_size=(3,3), activation='relu'))\n",
    "model.add(MaxPooling2D(pool_size=(2, 2)))\n",
    "model.add(Flatten())\n",
    "model.add(Dense(10, activation='softmax'))"
   ],
   "metadata": {
    "collapsed": false,
    "pycharm": {
     "name": "#%%\n"
    }
   }
  },
  {
   "cell_type": "code",
   "execution_count": 8,
   "outputs": [
    {
     "name": "stdout",
     "output_type": "stream",
     "text": [
      "Epoch 1, Loss: 136.77950641, accuracy: 11760.0 (58.8%)\n",
      "Epoch 2, Loss: 43.87413288, accuracy: 17637.0 (88.2%)\n",
      "Epoch 3, Loss: 29.70663320, accuracy: 18396.0 (92.0%)\n",
      "Epoch 4, Loss: 23.42533297, accuracy: 18745.0 (93.7%)\n",
      "Epoch 5, Loss: 19.64311114, accuracy: 18970.0 (94.8%)\n",
      "Elapsed time: 316.03 seconds\n"
     ]
    },
    {
     "ename": "TypeError",
     "evalue": "object of type 'numpy.int32' has no len()",
     "output_type": "error",
     "traceback": [
      "\u001B[1;31m---------------------------------------------------------------------------\u001B[0m",
      "\u001B[1;31mTypeError\u001B[0m                                 Traceback (most recent call last)",
      "Cell \u001B[1;32mIn [8], line 8\u001B[0m\n\u001B[0;32m      5\u001B[0m \u001B[38;5;28mprint\u001B[39m(\u001B[38;5;124mf\u001B[39m\u001B[38;5;124m\"\u001B[39m\u001B[38;5;124mElapsed time: \u001B[39m\u001B[38;5;132;01m{\u001B[39;00m(time\u001B[38;5;241m.\u001B[39mtime() \u001B[38;5;241m-\u001B[39m start_time)\u001B[38;5;132;01m:\u001B[39;00m\u001B[38;5;124m.2f\u001B[39m\u001B[38;5;132;01m}\u001B[39;00m\u001B[38;5;124m seconds\u001B[39m\u001B[38;5;124m\"\u001B[39m)\n\u001B[0;32m      7\u001B[0m test_loss, test_acc \u001B[38;5;241m=\u001B[39m model\u001B[38;5;241m.\u001B[39mevaluate(x_test, y_test)\n\u001B[1;32m----> 8\u001B[0m \u001B[38;5;28mprint\u001B[39m(\u001B[38;5;124mf\u001B[39m\u001B[38;5;124m\"\u001B[39m\u001B[38;5;124mTest set\u001B[39m\u001B[38;5;130;01m\\n\u001B[39;00m\u001B[38;5;124mLoss: \u001B[39m\u001B[38;5;132;01m{\u001B[39;00m(test_loss)\u001B[38;5;132;01m:\u001B[39;00m\u001B[38;5;124m.8f\u001B[39m\u001B[38;5;132;01m}\u001B[39;00m\u001B[38;5;124m, accuracy: \u001B[39m\u001B[38;5;132;01m{\u001B[39;00m\u001B[38;5;241m100\u001B[39m\u001B[38;5;241m*\u001B[39m(test_acc\u001B[38;5;241m/\u001B[39m \u001B[38;5;28;43mlen\u001B[39;49m\u001B[43m(\u001B[49m\u001B[43mtest_acc\u001B[49m\u001B[43m)\u001B[49m)\u001B[38;5;132;01m:\u001B[39;00m\u001B[38;5;124m.2f\u001B[39m\u001B[38;5;132;01m}\u001B[39;00m\u001B[38;5;124m%\u001B[39m\u001B[38;5;124m\"\u001B[39m)\n",
      "\u001B[1;31mTypeError\u001B[0m: object of type 'numpy.int32' has no len()"
     ]
    }
   ],
   "source": [
    "model.compile(loss = CrossEntropyLoss())\n",
    "maxv = 20_000\n",
    "start_time = time.time()\n",
    "model.fit(x_train[:maxv], y_train[:maxv], batch_size = 32 , epochs=5)\n",
    "print(f\"Elapsed time: {(time.time() - start_time):.2f} seconds\")\n",
    "\n",
    "test_loss, test_acc = model.evaluate(x_test, y_test)\n",
    "print(f\"Test set\\nLoss: {(test_loss):.8f}, accuracy: {100*(test_acc/ len(test_acc)):.2f}%\")"
   ],
   "metadata": {
    "collapsed": false,
    "pycharm": {
     "name": "#%%\n"
    }
   }
  },
  {
   "cell_type": "code",
   "execution_count": 10,
   "outputs": [
    {
     "name": "stdout",
     "output_type": "stream",
     "text": [
      "Test set\n",
      "Loss: 0.02885781, accuracy: 95.05%\n"
     ]
    }
   ],
   "source": [
    "test_loss, test_acc = model.evaluate(x_test, y_test)\n",
    "print(f\"Test set\\nLoss: {(test_loss):.8f}, accuracy: {100*(test_acc/ len(x_test)):.2f}%\")"
   ],
   "metadata": {
    "collapsed": false,
    "pycharm": {
     "name": "#%%\n"
    }
   }
  },
  {
   "cell_type": "markdown",
   "source": [
    "## fashion_mnist"
   ],
   "metadata": {
    "collapsed": false,
    "pycharm": {
     "name": "#%% md\n"
    }
   }
  },
  {
   "cell_type": "code",
   "execution_count": 11,
   "outputs": [],
   "source": [
    "x_train, y_train, x_test, y_test = get_fashion_mnist()\n",
    "\n",
    "model = Sequential()\n",
    "model.add(Conv2D(32, kernel_size=(5, 5), strides = (2, 2), activation='relu', input_shape=(28, 28, 1))),\n",
    "model.add(MaxPooling2D(pool_size=(2, 2)))\n",
    "model.add(Conv2D(64, kernel_size=(3,3), activation='relu'))\n",
    "model.add(MaxPooling2D(pool_size=(2, 2)))\n",
    "model.add(Flatten())\n",
    "model.add(Dense(10, activation='softmax'))"
   ],
   "metadata": {
    "collapsed": false,
    "pycharm": {
     "name": "#%%\n"
    }
   }
  },
  {
   "cell_type": "code",
   "execution_count": 12,
   "outputs": [
    {
     "name": "stdout",
     "output_type": "stream",
     "text": [
      "Epoch 1, Loss: 100.71408928, accuracy: 10925.0 (43.7%)\n",
      "Epoch 2, Loss: 57.57402445, accuracy: 16869.0 (67.5%)\n",
      "Epoch 3, Loss: 50.28882767, accuracy: 17861.0 (71.4%)\n",
      "Epoch 4, Loss: 47.01303722, accuracy: 18334.0 (73.3%)\n",
      "Epoch 5, Loss: 44.81383242, accuracy: 18720.0 (74.9%)\n",
      "Epoch 6, Loss: 43.10672074, accuracy: 19040.0 (76.2%)\n",
      "Epoch 7, Loss: 41.65541070, accuracy: 19257.0 (77.0%)\n",
      "Epoch 8, Loss: 40.39072256, accuracy: 19435.0 (77.7%)\n",
      "Elapsed time: 625.50 seconds\n",
      "Test set\n",
      "Loss: 0.10592859, accuracy: 77.25%\n"
     ]
    }
   ],
   "source": [
    "model.compile(loss = CrossEntropyLoss())\n",
    "maxv = 25_000\n",
    "start_time = time.time()\n",
    "model.fit(x_train[:maxv], y_train[:maxv], batch_size = 64 , epochs=8)\n",
    "print(f\"Elapsed time: {(time.time() - start_time):.2f} seconds\")\n",
    "\n",
    "test_loss, test_acc = model.evaluate(x_test, y_test)\n",
    "print(f\"Test set\\nLoss: {(test_loss):.8f}, accuracy: {100*(test_acc/ len(x_test)):.2f}%\")"
   ],
   "metadata": {
    "collapsed": false,
    "pycharm": {
     "name": "#%%\n"
    }
   }
  },
  {
   "cell_type": "code",
   "execution_count": null,
   "outputs": [],
   "source": [],
   "metadata": {
    "collapsed": false,
    "pycharm": {
     "name": "#%%\n"
    }
   }
  },
  {
   "cell_type": "markdown",
   "source": [
    "## cifar10"
   ],
   "metadata": {
    "collapsed": false,
    "pycharm": {
     "name": "#%% md\n"
    }
   }
  },
  {
   "cell_type": "code",
   "execution_count": 13,
   "outputs": [],
   "source": [
    "x_train, y_train, x_test, y_test = get_cifar10()\n",
    "\n",
    "model = Sequential()\n",
    "model.add(Conv2D(32, kernel_size=(5, 5), strides = (2, 2), activation='relu', input_shape=(32, 32, 3))),\n",
    "model.add(MaxPooling2D(pool_size=(2, 2)))\n",
    "model.add(Conv2D(64, kernel_size=(3,3), activation='relu'))\n",
    "model.add(MaxPooling2D(pool_size=(2, 2)))\n",
    "model.add(Flatten())\n",
    "model.add(Dense(10, activation = 'softmax'))"
   ],
   "metadata": {
    "collapsed": false,
    "pycharm": {
     "name": "#%%\n"
    }
   }
  },
  {
   "cell_type": "code",
   "execution_count": 14,
   "outputs": [
    {
     "name": "stdout",
     "output_type": "stream",
     "text": [
      "Epoch 1, Loss: 332.80412927, accuracy: 7647.0 (21.8%)\n",
      "Epoch 2, Loss: 301.78573561, accuracy: 11387.0 (32.5%)\n",
      "Epoch 3, Loss: 280.26170694, accuracy: 13563.0 (38.8%)\n",
      "Epoch 4, Loss: 266.20555126, accuracy: 14951.0 (42.7%)\n",
      "Epoch 5, Loss: 257.07962480, accuracy: 15802.0 (45.1%)\n",
      "Epoch 6, Loss: 250.25606047, accuracy: 16454.0 (47.0%)\n",
      "Epoch 7, Loss: 245.04282457, accuracy: 16919.0 (48.3%)\n",
      "Epoch 8, Loss: 238.95865284, accuracy: 17474.0 (49.9%)\n",
      "Epoch 9, Loss: 233.99066126, accuracy: 17969.0 (51.3%)\n",
      "Epoch 10, Loss: 229.15321861, accuracy: 18456.0 (52.7%)\n",
      "Epoch 11, Loss: 224.93657731, accuracy: 18818.0 (53.8%)\n",
      "Epoch 12, Loss: 221.17527331, accuracy: 19167.0 (54.8%)\n",
      "Epoch 13, Loss: 217.82659237, accuracy: 19445.0 (55.6%)\n",
      "Epoch 14, Loss: 214.67958794, accuracy: 19726.0 (56.4%)\n",
      "Epoch 15, Loss: 211.69438766, accuracy: 20004.0 (57.2%)\n",
      "Elapsed time: 3441.23 seconds\n",
      "Test set\n",
      "Loss: 0.20442250, accuracy: 53.84%\n"
     ]
    }
   ],
   "source": [
    "model.compile(loss = CrossEntropyLoss())\n",
    "maxv = 35_000\n",
    "start_time = time.time()\n",
    "model.fit(x_train[:maxv], y_train[:maxv], batch_size = 32 , epochs=15)\n",
    "print(f\"Elapsed time: {(time.time() - start_time):.2f} seconds\")\n",
    "\n",
    "test_loss, test_acc = model.evaluate(x_test, y_test)\n",
    "print(f\"Test set\\nLoss: {(test_loss):.8f}, accuracy: {100*(test_acc/ len(x_test)):.2f}%\")"
   ],
   "metadata": {
    "collapsed": false,
    "pycharm": {
     "name": "#%%\n"
    }
   }
  },
  {
   "cell_type": "code",
   "execution_count": 14,
   "outputs": [],
   "source": [],
   "metadata": {
    "collapsed": false,
    "pycharm": {
     "name": "#%%\n"
    }
   }
  },
  {
   "cell_type": "markdown",
   "source": [
    "## cifar100"
   ],
   "metadata": {
    "collapsed": false,
    "pycharm": {
     "name": "#%% md\n"
    }
   }
  },
  {
   "cell_type": "code",
   "execution_count": 15,
   "outputs": [],
   "source": [
    "x_train, y_train, x_test, y_test = get_cifar100()\n",
    "\n",
    "model = Sequential()\n",
    "model.add(Conv2D(32, kernel_size=(5, 5), strides = (2, 2), activation='relu', input_shape=(32, 32, 3))),\n",
    "model.add(MaxPooling2D(pool_size=(2, 2)))\n",
    "model.add(Conv2D(64, kernel_size=(3,3), activation='relu'))\n",
    "model.add(MaxPooling2D(pool_size=(2, 2)))\n",
    "model.add(Flatten())\n",
    "model.add(Dense(20, activation = 'softmax'))"
   ],
   "metadata": {
    "collapsed": false,
    "pycharm": {
     "name": "#%%\n"
    }
   }
  },
  {
   "cell_type": "code",
   "execution_count": 16,
   "outputs": [
    {
     "name": "stdout",
     "output_type": "stream",
     "text": [
      "Epoch 1, Loss: 62.08173941, accuracy: 612.0 (6.1%)\n",
      "Epoch 2, Loss: 61.57451151, accuracy: 855.0 (8.6%)\n",
      "Epoch 3, Loss: 60.66652170, accuracy: 1185.0 (11.8%)\n",
      "Epoch 4, Loss: 59.18836861, accuracy: 1487.0 (14.9%)\n",
      "Epoch 5, Loss: 57.55164181, accuracy: 1734.0 (17.3%)\n",
      "Epoch 6, Loss: 56.42272061, accuracy: 1859.0 (18.6%)\n",
      "Epoch 7, Loss: 55.63286612, accuracy: 2021.0 (20.2%)\n",
      "Epoch 8, Loss: 54.94311418, accuracy: 2162.0 (21.6%)\n",
      "Epoch 9, Loss: 54.28242061, accuracy: 2300.0 (23.0%)\n",
      "Epoch 10, Loss: 53.63379237, accuracy: 2425.0 (24.2%)\n",
      "Epoch 11, Loss: 52.95933262, accuracy: 2570.0 (25.7%)\n",
      "Epoch 12, Loss: 52.26430607, accuracy: 2708.0 (27.1%)\n",
      "Epoch 13, Loss: 51.57706652, accuracy: 2829.0 (28.3%)\n",
      "Epoch 14, Loss: 50.92696331, accuracy: 2943.0 (29.4%)\n",
      "Epoch 15, Loss: 50.33429427, accuracy: 3027.0 (30.3%)\n",
      "Epoch 16, Loss: 49.80954510, accuracy: 3132.0 (31.3%)\n",
      "Epoch 17, Loss: 49.34829351, accuracy: 3207.0 (32.1%)\n",
      "Epoch 18, Loss: 48.93666207, accuracy: 3263.0 (32.6%)\n",
      "Epoch 19, Loss: 48.56479766, accuracy: 3308.0 (33.1%)\n",
      "Epoch 20, Loss: 48.21480296, accuracy: 3365.0 (33.7%)\n",
      "Elapsed time: 1442.19 seconds\n",
      "Test set\n",
      "Loss: 0.15408993, accuracy: 33.00%\n"
     ]
    }
   ],
   "source": [
    "model.compile(loss = CrossEntropyLoss())\n",
    "start_time = time.time()\n",
    "model.fit(x_train, y_train, batch_size = 32 , epochs=20)\n",
    "print(f\"Elapsed time: {(time.time() - start_time):.2f} seconds\")\n",
    "\n",
    "test_loss, test_acc = model.evaluate(x_test, y_test)\n",
    "print(f\"Test set\\nLoss: {(test_loss):.8f}, accuracy: {100*(test_acc/ len(x_test)):.2f}%\")"
   ],
   "metadata": {
    "collapsed": false,
    "pycharm": {
     "name": "#%%\n"
    }
   }
  },
  {
   "cell_type": "code",
   "execution_count": null,
   "outputs": [],
   "source": [],
   "metadata": {
    "collapsed": false,
    "pycharm": {
     "name": "#%%\n"
    }
   }
  }
 ],
 "metadata": {
  "kernelspec": {
   "display_name": "Python 3",
   "language": "python",
   "name": "python3"
  },
  "language_info": {
   "codemirror_mode": {
    "name": "ipython",
    "version": 2
   },
   "file_extension": ".py",
   "mimetype": "text/x-python",
   "name": "python",
   "nbconvert_exporter": "python",
   "pygments_lexer": "ipython2",
   "version": "2.7.6"
  }
 },
 "nbformat": 4,
 "nbformat_minor": 0
}